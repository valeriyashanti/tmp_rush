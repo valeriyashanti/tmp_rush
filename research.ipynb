{
 "cells": [
  {
   "cell_type": "code",
   "execution_count": 1,
   "id": "solar-killer",
   "metadata": {},
   "outputs": [],
   "source": [
    "%load_ext autoreload\n",
    "%autoreload 2"
   ]
  },
  {
   "cell_type": "code",
   "execution_count": 2,
   "id": "excited-large",
   "metadata": {},
   "outputs": [
    {
     "name": "stderr",
     "output_type": "stream",
     "text": [
      "/goinfre/ljonnel-/rush00/venv/lib/python3.8/site-packages/pandas/compat/__init__.py:97: UserWarning: Could not import the lzma module. Your installed Python is incomplete. Attempting to use lzma compression will result in a RuntimeError.\n",
      "  warnings.warn(msg)\n"
     ]
    }
   ],
   "source": [
    "import pandas as pd\n",
    "import re\n",
    "from collections import Counter\n",
    "from movies import Movies\n",
    "from ratings import Ratings\n",
    "from datetime import datetime"
   ]
  },
  {
   "cell_type": "code",
   "execution_count": 3,
   "id": "retained-vinyl",
   "metadata": {},
   "outputs": [],
   "source": [
    "rating = Ratings('ml-latest-small/ratings.csv')"
   ]
  },
  {
   "cell_type": "code",
   "execution_count": 4,
   "id": "corporate-connection",
   "metadata": {},
   "outputs": [],
   "source": [
    "movies = Movies('ml-latest-small/movies.csv')"
   ]
  },
  {
   "cell_type": "code",
   "execution_count": 5,
   "id": "macro-peoples",
   "metadata": {},
   "outputs": [],
   "source": [
    "movies_rating = rating.Movies('ml-latest-small/movies.csv', rating)"
   ]
  },
  {
   "cell_type": "code",
   "execution_count": 6,
   "id": "aerial-clearance",
   "metadata": {},
   "outputs": [
    {
     "data": {
      "text/plain": [
       "{'Rubber (2010)': 10,\n",
       " 'Patlabor: The Movie (Kidô keisatsu patorebâ: The Movie) (1989)': 8,\n",
       " 'Mulan (1998)': 7,\n",
       " 'Who Framed Roger Rabbit? (1988)': 7,\n",
       " 'Osmosis Jones (2001)': 7,\n",
       " 'Interstate 60 (2002)': 7,\n",
       " 'Robots (2005)': 7,\n",
       " 'Pulse (2006)': 7,\n",
       " 'Aqua Teen Hunger Force Colon Movie Film for Theaters (2007)': 7,\n",
       " 'Enchanted (2007)': 7}"
      ]
     },
     "execution_count": 6,
     "metadata": {},
     "output_type": "execute_result"
    }
   ],
   "source": [
    "movies.most_genres(10)"
   ]
  },
  {
   "cell_type": "code",
   "execution_count": 7,
   "id": "downtown-death",
   "metadata": {},
   "outputs": [
    {
     "data": {
      "text/plain": [
       "{'Forrest Gump (1994)': 329,\n",
       " 'Shawshank Redemption, The (1994)': 317,\n",
       " 'Pulp Fiction (1994)': 307,\n",
       " 'Silence of the Lambs, The (1991)': 279,\n",
       " 'Matrix, The (1999)': 278,\n",
       " 'Star Wars: Episode IV - A New Hope (1977)': 251,\n",
       " 'Jurassic Park (1993)': 238,\n",
       " 'Braveheart (1995)': 237,\n",
       " 'Terminator 2: Judgment Day (1991)': 224,\n",
       " \"Schindler's List (1993)\": 220}"
      ]
     },
     "execution_count": 7,
     "metadata": {},
     "output_type": "execute_result"
    }
   ],
   "source": [
    "movies_rating.top_by_num_of_ratings(10)"
   ]
  },
  {
   "cell_type": "code",
   "execution_count": 12,
   "id": "formal-testament",
   "metadata": {},
   "outputs": [],
   "source": [
    "rat = pd.read_csv('ml-latest-small/ratings.csv')"
   ]
  },
  {
   "cell_type": "code",
   "execution_count": 14,
   "id": "three-intelligence",
   "metadata": {},
   "outputs": [
    {
     "data": {
      "text/plain": [
       "356       329\n",
       "318       317\n",
       "296       307\n",
       "593       279\n",
       "2571      278\n",
       "         ... \n",
       "152085      1\n",
       "164367      1\n",
       "98799       1\n",
       "4573        1\n",
       "6141        1\n",
       "Name: movieId, Length: 9724, dtype: int64"
      ]
     },
     "execution_count": 14,
     "metadata": {},
     "output_type": "execute_result"
    }
   ],
   "source": [
    "rat.movieId.value_counts()"
   ]
  },
  {
   "cell_type": "code",
   "execution_count": 11,
   "id": "applicable-locator",
   "metadata": {},
   "outputs": [],
   "source": [
    "movies_rating.init_mapping_movies()"
   ]
  },
  {
   "cell_type": "code",
   "execution_count": null,
   "id": "electric-exclusive",
   "metadata": {},
   "outputs": [],
   "source": []
  }
 ],
 "metadata": {
  "kernelspec": {
   "display_name": "Python 3",
   "language": "python",
   "name": "python3"
  },
  "language_info": {
   "codemirror_mode": {
    "name": "ipython",
    "version": 3
   },
   "file_extension": ".py",
   "mimetype": "text/x-python",
   "name": "python",
   "nbconvert_exporter": "python",
   "pygments_lexer": "ipython3",
   "version": "3.8.6"
  }
 },
 "nbformat": 4,
 "nbformat_minor": 5
}
